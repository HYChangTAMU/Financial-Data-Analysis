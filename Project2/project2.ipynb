{
  "nbformat": 4,
  "nbformat_minor": 0,
  "metadata": {
    "colab": {
      "provenance": [],
      "authorship_tag": "ABX9TyO4egLKw6IpwbSNxDP6MNQI",
      "include_colab_link": true
    },
    "kernelspec": {
      "name": "python3",
      "display_name": "Python 3"
    },
    "language_info": {
      "name": "python"
    }
  },
  "cells": [
    {
      "cell_type": "markdown",
      "metadata": {
        "id": "view-in-github",
        "colab_type": "text"
      },
      "source": [
        "<a href=\"https://colab.research.google.com/github/HYChangTAMU/Projects/blob/main/Project2/project2.ipynb\" target=\"_parent\"><img src=\"https://colab.research.google.com/assets/colab-badge.svg\" alt=\"Open In Colab\"/></a>"
      ]
    },
    {
      "cell_type": "markdown",
      "source": [
        "# Project 2\n",
        "Task:\n",
        "\n",
        "1. Examining commonly used metric using stocks selected in project 1\n",
        "2. Running simulation on a simple game to demonstrate risk difference"
      ],
      "metadata": {
        "id": "rNI2IOQCmxPc"
      }
    },
    {
      "cell_type": "markdown",
      "source": [
        "## Metrics\n",
        "Using the data from project 1 and assume that we own $100 million of each stock.\\\n",
        "We want to compute the following quantities:\n",
        "\n",
        "1. individual value at risk (VaR) and portfolio VaR\n",
        "\n",
        "2. the Sharpe ratios using annual quantities for each stock\n",
        "\n",
        "3. the maximum drawdown for each stock"
      ],
      "metadata": {
        "id": "T10VTEZxYa4_"
      }
    },
    {
      "cell_type": "code",
      "source": [
        "# from google.colab import drive\n",
        "# drive.mount('/content/drive')\n",
        "# !rm -r Financial-Data-Analysis\n",
        "!git clone https://github.com/HYChangTAMU/Financial-Data-Analysis.git\n",
        "%cd Financial-Data-Analysis\n",
        "!pwd\n",
        "\n",
        "import numpy as np\n",
        "import pandas as pd\n",
        "pd.set_option('display.max_rows', 10)\n",
        "\n",
        "\n",
        "# setup the raw dataframes\n",
        "# AAPL, TXN, and GRMN have historical dividends\n",
        "# HLIT and QMCO did not pay dividend, so their dividends column are all NaN\n",
        "# the data of each stock comes from Yahoo Finance\n",
        "aapl = pd.merge(pd.read_csv(\"./Assignment1/Data/1AAPL.csv\"), pd.read_csv(\"./Assignment1/Data/1AAPL_div.csv\"), on = \"Date\", how = \"outer\")\n",
        "txn = pd.merge(pd.read_csv(\"./Assignment1/Data/2TXN.csv\"), pd.read_csv(\"./Assignment1/Data/2TXN_div.csv\"), on = \"Date\", how = \"outer\")\n",
        "grmn = pd.merge(pd.read_csv(\"./Assignment1/Data/3GRMN.csv\"), pd.read_csv(\"./Assignment1/Data/3GRMN_div.csv\"), on = \"Date\", how = \"outer\")\n",
        "hlit = pd.read_csv(\"./Assignment1/Data/4HLIT.csv\")\n",
        "hlit[\"Dividends\"] = np.nan\n",
        "qmco = pd.read_csv(\"./Assignment1/Data/5QMCO.csv\")\n",
        "qmco[\"Dividends\"] = np.nan\n",
        "\n",
        "\n",
        "# rfr is the risk free rate data\n",
        "# the risk free rate date comes from Kenneth R. French's Data Library\n",
        "rfr = pd.read_csv(\"./Assignment1/Data/0RF.csv\")\n",
        "\n",
        "\n",
        "# defining years\n",
        "# assuming that we always trade on July 01 before closing\n",
        "# If July 01 was on weekend, we use the price on the previous Friday.\n",
        "y03 = [d.strftime('%Y-%m-%d') for d in pd.date_range(start = '2003-07-01', end = '2004-07-01')]\n",
        "y04 = [d.strftime('%Y-%m-%d') for d in pd.date_range(start = '2004-07-01', end = '2005-07-01')]\n",
        "y05 = [d.strftime('%Y-%m-%d') for d in pd.date_range(start = '2005-07-01', end = '2006-06-30')]\n",
        "y06 = [d.strftime('%Y-%m-%d') for d in pd.date_range(start = '2006-06-30', end = '2007-06-29')]\n",
        "y07 = [d.strftime('%Y-%m-%d') for d in pd.date_range(start = '2007-06-29', end = '2008-07-01')]\n",
        "y08 = [d.strftime('%Y-%m-%d') for d in pd.date_range(start = '2008-07-01', end = '2009-07-01')]\n",
        "y09 = [d.strftime('%Y-%m-%d') for d in pd.date_range(start = '2009-07-01', end = '2010-07-01')]\n",
        "y10 = [d.strftime('%Y-%m-%d') for d in pd.date_range(start = '2010-07-01', end = '2011-07-01')]\n",
        "y11 = [d.strftime('%Y-%m-%d') for d in pd.date_range(start = '2011-07-01', end = '2012-06-29')]\n",
        "y12 = [d.strftime('%Y-%m-%d') for d in pd.date_range(start = '2012-06-29', end = '2013-07-01')]\n",
        "y13 = [d.strftime('%Y-%m-%d') for d in pd.date_range(start = '2013-07-01', end = '2014-07-01')]\n",
        "y14 = [d.strftime('%Y-%m-%d') for d in pd.date_range(start = '2014-07-01', end = '2015-07-01')]\n",
        "y15 = [d.strftime('%Y-%m-%d') for d in pd.date_range(start = '2015-07-01', end = '2016-07-01')]\n",
        "y16 = [d.strftime('%Y-%m-%d') for d in pd.date_range(start = '2016-07-01', end = '2017-06-30')]\n",
        "y17 = [d.strftime('%Y-%m-%d') for d in pd.date_range(start = '2017-06-30', end = '2018-06-29')]\n",
        "y18 = [d.strftime('%Y-%m-%d') for d in pd.date_range(start = '2018-06-29', end = '2019-07-01')]\n",
        "y19 = [d.strftime('%Y-%m-%d') for d in pd.date_range(start = '2019-07-01', end = '2020-07-01')]\n",
        "y20 = [d.strftime('%Y-%m-%d') for d in pd.date_range(start = '2020-07-01', end = '2021-07-01')]\n",
        "y21 = [d.strftime('%Y-%m-%d') for d in pd.date_range(start = '2021-07-01', end = '2022-07-01')]\n",
        "y22 = [d.strftime('%Y-%m-%d') for d in pd.date_range(start = '2022-07-01', end = '2023-06-30')]\n",
        "\n",
        "yrs_array = [y03, y04, y05, y06, y07, y08, y09, y10, y11, y12, y13, y14, y15, y16, y17, y18, y19, y20, y21, y22]\n",
        "yrs_date = [i[0] for i in yrs_array] + [y22[-1]]\n",
        "yrs_list = [2003 + i for i in range(21)]\n",
        "yrs_series = pd.Series(yrs_list)\n",
        "\n",
        "\n",
        "# calculate daily return including dividends\n",
        "def daily_rtn(x):\n",
        "  rtn = [None] + [(x[\"Dividends\"][i+1] + x[\"Close\"][i+1] - x[\"Close\"][i])/x[\"Close\"][i] if not pd.isna(x[\"Dividends\"][i+1]) else (x[\"Close\"][i+1] - x[\"Close\"][i])/x[\"Close\"][i] for i in range(len(x[\"Close\"]) - 1)]\n",
        "  return rtn\n",
        "\n",
        "# relevant data for daily return\n",
        "def daily_data(x):\n",
        "  x[\"Daily Rtn\"] = daily_rtn(x)\n",
        "  return x[[\"Date\", \"Close\", \"Dividends\", \"Daily Rtn\"]]\n",
        "\n",
        "\n",
        "# relevant daily dataframes\n",
        "# Note that the risk free rate was given in percentage, so we divide it by 100\n",
        "aapl_day = daily_data(aapl)\n",
        "txn_day = daily_data(txn)\n",
        "grmn_day = daily_data(grmn)\n",
        "hlit_day = daily_data(hlit)\n",
        "qmco_day = daily_data(qmco)\n",
        "rfr_day = pd.DataFrame({\"Date\": aapl['Date'], 'Daily Rtn': rfr['RF'] / 100})"
      ],
      "metadata": {
        "id": "Tofwa18nmw5_",
        "colab": {
          "base_uri": "https://localhost:8080/"
        },
        "outputId": "58e41509-8893-4479-dea7-d950d94473a8"
      },
      "execution_count": null,
      "outputs": [
        {
          "output_type": "stream",
          "name": "stdout",
          "text": [
            "Cloning into 'Financial-Data-Analysis'...\n",
            "remote: Enumerating objects: 191, done.\u001b[K\n",
            "remote: Counting objects: 100% (34/34), done.\u001b[K\n",
            "remote: Compressing objects: 100% (34/34), done.\u001b[K\n",
            "remote: Total 191 (delta 7), reused 0 (delta 0), pack-reused 157\u001b[K\n",
            "Receiving objects: 100% (191/191), 1.05 MiB | 6.62 MiB/s, done.\n",
            "Resolving deltas: 100% (70/70), done.\n",
            "/content/Financial-Data-Analysis\n",
            "/content/Financial-Data-Analysis\n"
          ]
        }
      ]
    },
    {
      "cell_type": "markdown",
      "source": [
        "### Value at Risk (VaR)\n",
        "We would like to calculate the **VaR** at 99% confidence level for the vext 10 days for each stock and the portfolio.\\\n",
        "The formula is:\n",
        "\n",
        "VaR = money in management × percentage volatility × sqrt(10) × 2.33\n",
        "\n",
        "We use only the prices from the last year and round the numbers to 2 decimal places."
      ],
      "metadata": {
        "id": "avwQqz65KWqX"
      }
    },
    {
      "cell_type": "code",
      "source": [
        "# for the percentage volatility of each stock, we calculate std(closing price) / mean(closing price) of the daily data in the last year.\n",
        "def percentage_volatility(x):\n",
        "  return x.loc[x[\"Date\"].isin(y22)]['Close'].std() / x.loc[x[\"Date\"].isin(y22)]['Close'].mean()\n",
        "\n",
        "# VaR = money in management × percentage volatility × sqrt(10) × 2.33\n",
        "def VaR(x):\n",
        "  return 1000000 * percentage_volatility(x) * np.sqrt(10) * 2.33"
      ],
      "metadata": {
        "id": "8vl-JQVkJMnP"
      },
      "execution_count": null,
      "outputs": []
    },
    {
      "cell_type": "code",
      "source": [
        "print(f\"VaR for AAPL: {VaR(aapl_day):.2f}\")"
      ],
      "metadata": {
        "colab": {
          "base_uri": "https://localhost:8080/"
        },
        "id": "wTHfoPbrNcaR",
        "outputId": "3b0689d2-c122-4d61-fcbc-62bd4a99e618"
      },
      "execution_count": null,
      "outputs": [
        {
          "output_type": "stream",
          "name": "stdout",
          "text": [
            "VaR for AAPL: 698461.60\n"
          ]
        }
      ]
    },
    {
      "cell_type": "code",
      "source": [
        "print(f\"VaR for TXN : {VaR(txn_day):.2f}\")"
      ],
      "metadata": {
        "colab": {
          "base_uri": "https://localhost:8080/"
        },
        "id": "nkD2cGZbNvkw",
        "outputId": "655f6ce8-1e34-466c-b4b1-2f96291858b2"
      },
      "execution_count": null,
      "outputs": [
        {
          "output_type": "stream",
          "name": "stdout",
          "text": [
            "VaR for TXN : 361634.69\n"
          ]
        }
      ]
    },
    {
      "cell_type": "code",
      "source": [
        "print(f\"VaR for GRMN: {VaR(grmn_day):.2f}\")"
      ],
      "metadata": {
        "colab": {
          "base_uri": "https://localhost:8080/"
        },
        "id": "9R4shqWcN3VQ",
        "outputId": "b2f6339e-6772-47c2-bc5a-36b1ce2a9d41"
      },
      "execution_count": null,
      "outputs": [
        {
          "output_type": "stream",
          "name": "stdout",
          "text": [
            "VaR for GRMN: 530375.14\n"
          ]
        }
      ]
    },
    {
      "cell_type": "code",
      "source": [
        "print(f\"VaR for HLIT: {VaR(hlit_day):.2f}\")"
      ],
      "metadata": {
        "colab": {
          "base_uri": "https://localhost:8080/"
        },
        "id": "l8KRNxCSN6TL",
        "outputId": "5fdb4cf2-4981-4b02-9747-e6da82cd5f5c"
      },
      "execution_count": null,
      "outputs": [
        {
          "output_type": "stream",
          "name": "stdout",
          "text": [
            "VaR for HLIT: 1172313.38\n"
          ]
        }
      ]
    },
    {
      "cell_type": "code",
      "source": [
        "print(f\"VaR for QMCO: {VaR(qmco_day):.2f}\")"
      ],
      "metadata": {
        "colab": {
          "base_uri": "https://localhost:8080/"
        },
        "id": "1IisTcOiN_J9",
        "outputId": "56f4eda9-8f81-47b1-cada-530f59e4e3a6"
      },
      "execution_count": null,
      "outputs": [
        {
          "output_type": "stream",
          "name": "stdout",
          "text": [
            "VaR for QMCO: 1608395.25\n"
          ]
        }
      ]
    },
    {
      "cell_type": "markdown",
      "source": [
        "For the portfolio, the total asset at time t is X(t) = ( Σ ω_i P_i(t) / P_i(0) ) × X(0) \\\n",
        "where ω_i is the weight of each asset, and P_i(t) is the unit price of each stock.\n",
        "\n",
        "The percentage volatility can be found by\\\n",
        "σ[X(t)] / E[X(t)] = σ[Σ ω_i P_i(t) / P_i(0)] / E[Σ ω_i P_i(t) / P_i(0)]\\\n",
        "Let's define the time evolution factor U(t, 0) as\\\n",
        "U(t, 0) = Σ ω_i P_i(t) / P_i(0)\n",
        "\n",
        "In our case, we have five stocks with $1 Million each. The weights are all 0.2."
      ],
      "metadata": {
        "id": "1GMu7gldwV9E"
      }
    },
    {
      "cell_type": "code",
      "source": [
        "# We can calculate U(t, 0) using the daily data\n",
        "portfolio_day = pd.DataFrame({'Date': aapl_day.loc[aapl_day['Date'].isin(y22)]['Date']})\n",
        "portfolio_day[\"U\"] = 0\n",
        "for x in [aapl_day, txn_day, grmn_day, hlit_day, qmco_day]:\n",
        "  portfolio_day[\"U\"] += x.loc[x['Date'].isin(y22)]['Close'] * 0.2 / x.iloc[4784][\"Close\"]\n",
        "\n",
        "# The percentage volatility of the portfolio is\n",
        "print('The percentage volatility of the portfolio is {x:.4f} %'.format(x = 100 * portfolio_day['U'].std() / portfolio_day['U'].mean()))"
      ],
      "metadata": {
        "colab": {
          "base_uri": "https://localhost:8080/"
        },
        "id": "x8spJI3FwVU7",
        "outputId": "32876046-9dbe-4dd5-9f68-1181e49780e6"
      },
      "execution_count": null,
      "outputs": [
        {
          "output_type": "stream",
          "name": "stdout",
          "text": [
            "The percentage volatility of the portfolio is 6.0061 %\n"
          ]
        }
      ]
    },
    {
      "cell_type": "markdown",
      "source": [
        "**The VaR of the portfolio** is again:\\\n",
        "VaR = money in management × percentage volatility × sqrt(10) × 2.33\\\n",
        "where the money in management is now $5 Million."
      ],
      "metadata": {
        "id": "BwC47E7X4-Kc"
      }
    },
    {
      "cell_type": "code",
      "source": [
        "print(\"VaR for the portfolio: {x:.2f}\".format(x = 5000000 * portfolio_day['U'].std() / portfolio_day['U'].mean() * np.sqrt(10) * 2.33))"
      ],
      "metadata": {
        "colab": {
          "base_uri": "https://localhost:8080/"
        },
        "id": "FUkvGwPh5Q9M",
        "outputId": "6f302108-5d34-4d0a-9be8-fbb091078548"
      },
      "execution_count": null,
      "outputs": [
        {
          "output_type": "stream",
          "name": "stdout",
          "text": [
            "VaR for the portfolio: 2212672.80\n"
          ]
        }
      ]
    },
    {
      "cell_type": "code",
      "source": [
        "print(\"The benefits of diversification are {x:.2f}\".format(x = VaR(aapl_day) + VaR(txn_day) + VaR(grmn_day) + VaR(hlit_day) + VaR(qmco_day) - (5000000 * portfolio_day['U'].std() / portfolio_day['U'].mean() * np.sqrt(10) * 2.33)))"
      ],
      "metadata": {
        "colab": {
          "base_uri": "https://localhost:8080/"
        },
        "id": "pJ7mFgSS6SCz",
        "outputId": "c42d8328-dea7-4518-cfd3-bb62d285a73e"
      },
      "execution_count": null,
      "outputs": [
        {
          "output_type": "stream",
          "name": "stdout",
          "text": [
            "The benefits of diversification are 2158507.26\n"
          ]
        }
      ]
    },
    {
      "cell_type": "markdown",
      "source": [
        "### Sharpe Ratio\n",
        "**The Sharpe ratio** is defined as\\\n",
        "sr_p = E[Rp - Rf] / σ[Rp]\n",
        "\n",
        "In the following, we will use the realized annual returns obtained by compounding daily returns.\n"
      ],
      "metadata": {
        "id": "K4Uiqjq76rNv"
      }
    },
    {
      "cell_type": "code",
      "source": [
        "# converting daily return to realized annual return by compounding\n",
        "def realized_annual_rtn(x):\n",
        "  rtn_list = [None]\n",
        "  for k in yrs_array:\n",
        "    rtn = 1\n",
        "    for i in x.loc[x[\"Date\"].isin(k[1:])][\"Daily Rtn\"]:\n",
        "      rtn = rtn * (1 + i) if not pd.isna(i) else rtn\n",
        "    rtn_list.append(rtn - 1)\n",
        "  return pd.DataFrame({\"Realized Annual Return\" : rtn_list}, index = yrs_list)"
      ],
      "metadata": {
        "id": "bDR_eL1r_iWt"
      },
      "execution_count": null,
      "outputs": []
    },
    {
      "cell_type": "markdown",
      "source": [
        "The Sharpe ratio can then be easily calcuated."
      ],
      "metadata": {
        "id": "bbXhNUJN2MgY"
      }
    },
    {
      "cell_type": "code",
      "source": [
        "def Sharpe_ratio(x):\n",
        "  return (realized_annual_rtn(x)['Realized Annual Return'].mean() - realized_annual_rtn(rfr_day)['Realized Annual Return'].mean()) / realized_annual_rtn(x)['Realized Annual Return'].std()"
      ],
      "metadata": {
        "id": "SGB88Niw2Voe"
      },
      "execution_count": null,
      "outputs": []
    },
    {
      "cell_type": "code",
      "source": [
        "print(f'Sharpe ratio of AAPL: {Sharpe_ratio(aapl_day):.2f}')"
      ],
      "metadata": {
        "colab": {
          "base_uri": "https://localhost:8080/"
        },
        "id": "_WmwBgPw2hqN",
        "outputId": "e24b2d50-c895-4107-c647-96238e3408d4"
      },
      "execution_count": null,
      "outputs": [
        {
          "output_type": "stream",
          "name": "stdout",
          "text": [
            "Sharpe ratio of AAPL: 1.05\n"
          ]
        }
      ]
    },
    {
      "cell_type": "code",
      "source": [
        "print(f'Sharpe ratio of TXN : {Sharpe_ratio(txn_day):.2f}')"
      ],
      "metadata": {
        "colab": {
          "base_uri": "https://localhost:8080/"
        },
        "id": "IlCm5JNl2wRl",
        "outputId": "cf103789-4812-4b47-d1b3-7f6fbe1fe139"
      },
      "execution_count": null,
      "outputs": [
        {
          "output_type": "stream",
          "name": "stdout",
          "text": [
            "Sharpe ratio of TXN : 0.67\n"
          ]
        }
      ]
    },
    {
      "cell_type": "code",
      "source": [
        "print(f'Sharpe ratio of GRMN: {Sharpe_ratio(grmn_day):.2f}')"
      ],
      "metadata": {
        "colab": {
          "base_uri": "https://localhost:8080/"
        },
        "id": "rEUqyop42wCJ",
        "outputId": "8f71c384-e549-4ac7-8a4c-49aeefdc54af"
      },
      "execution_count": null,
      "outputs": [
        {
          "output_type": "stream",
          "name": "stdout",
          "text": [
            "Sharpe ratio of GRMN: 0.41\n"
          ]
        }
      ]
    },
    {
      "cell_type": "code",
      "source": [
        "print(f'Sharpe ratio of HLIT: {Sharpe_ratio(hlit_day):.2f}')"
      ],
      "metadata": {
        "colab": {
          "base_uri": "https://localhost:8080/"
        },
        "id": "HI63p0mt2vua",
        "outputId": "38f2d039-3905-45f1-ae51-fee237465def"
      },
      "execution_count": null,
      "outputs": [
        {
          "output_type": "stream",
          "name": "stdout",
          "text": [
            "Sharpe ratio of HLIT: 0.32\n"
          ]
        }
      ]
    },
    {
      "cell_type": "code",
      "source": [
        "print(f'Sharpe ratio of QMCO: {Sharpe_ratio(qmco_day):.2f}')"
      ],
      "metadata": {
        "colab": {
          "base_uri": "https://localhost:8080/"
        },
        "id": "k7ISsBY-2vYe",
        "outputId": "9bda28f3-5a18-41a7-981d-8c52a521a3be"
      },
      "execution_count": null,
      "outputs": [
        {
          "output_type": "stream",
          "name": "stdout",
          "text": [
            "Sharpe ratio of QMCO: 0.03\n"
          ]
        }
      ]
    },
    {
      "cell_type": "markdown",
      "source": [
        "### Maximum Drawdown\n",
        "Now, let's find **the maximum drawdown** for each stock.\\\n",
        "r_t = - max_{s<t} × [ 1 - P(t) / P(s) ] = -1 + min_{s<t} [ P(t) / P(s) ]\n",
        "\n",
        "The easiest way is to run two nested loops.\n"
      ],
      "metadata": {
        "id": "z2e85B1f3WhW"
      }
    },
    {
      "cell_type": "code",
      "source": [
        "# max drawdown\n",
        "def max_drawdown(x):\n",
        "  pts, x_list = 1, x['Close'].tolist()\n",
        "  for s in range(len(x_list)):\n",
        "    for t in range(s + 1, len(x_list)):\n",
        "      pts = min(pts, x_list[t] / x_list[s])\n",
        "  return pts - 1"
      ],
      "metadata": {
        "id": "vIRGuUAnCXpG"
      },
      "execution_count": null,
      "outputs": []
    },
    {
      "cell_type": "code",
      "source": [
        "print(f'The maximum drawdown for AAPL: {max_drawdown(aapl_day):.2f}')"
      ],
      "metadata": {
        "colab": {
          "base_uri": "https://localhost:8080/"
        },
        "id": "9W2KCdE-F3rL",
        "outputId": "ea0a48bd-ec56-43cb-dac0-6f0363884e2e"
      },
      "execution_count": null,
      "outputs": [
        {
          "output_type": "stream",
          "name": "stdout",
          "text": [
            "The maximum drawdown for AAPL: -0.61\n"
          ]
        }
      ]
    },
    {
      "cell_type": "code",
      "source": [
        "print(f'The maximum drawdown for TXN : {max_drawdown(txn_day):.2f}')"
      ],
      "metadata": {
        "colab": {
          "base_uri": "https://localhost:8080/"
        },
        "id": "Fk14xRiFGYpo",
        "outputId": "2b08da89-4e88-4e10-f6ab-c7bd092b7c4d"
      },
      "execution_count": null,
      "outputs": [
        {
          "output_type": "stream",
          "name": "stdout",
          "text": [
            "The maximum drawdown for TXN : -0.65\n"
          ]
        }
      ]
    },
    {
      "cell_type": "code",
      "source": [
        "print(f'The maximum drawdown for GRMN: {max_drawdown(grmn_day):.2f}')"
      ],
      "metadata": {
        "colab": {
          "base_uri": "https://localhost:8080/"
        },
        "id": "vlgsXsd2GYck",
        "outputId": "f5847e93-5e40-4013-9b3a-658fd09649cd"
      },
      "execution_count": null,
      "outputs": [
        {
          "output_type": "stream",
          "name": "stdout",
          "text": [
            "The maximum drawdown for GRMN: -0.88\n"
          ]
        }
      ]
    },
    {
      "cell_type": "code",
      "source": [
        "print(f'The maximum drawdown for HLIT: {max_drawdown(hlit_day):.2f}')"
      ],
      "metadata": {
        "colab": {
          "base_uri": "https://localhost:8080/"
        },
        "id": "df_NGgR0GYNB",
        "outputId": "73c08cb0-1e1c-49f3-df8b-40a9a339694f"
      },
      "execution_count": null,
      "outputs": [
        {
          "output_type": "stream",
          "name": "stdout",
          "text": [
            "The maximum drawdown for HLIT: -0.81\n"
          ]
        }
      ]
    },
    {
      "cell_type": "code",
      "source": [
        "print(f'The maximum drawdown for QMCO: {max_drawdown(qmco_day):.2f}')"
      ],
      "metadata": {
        "colab": {
          "base_uri": "https://localhost:8080/"
        },
        "id": "hHHaTpwoGXyG",
        "outputId": "7d7f6b24-7b1a-40b7-cf1e-6d7db9d7bc95"
      },
      "execution_count": null,
      "outputs": [
        {
          "output_type": "stream",
          "name": "stdout",
          "text": [
            "The maximum drawdown for QMCO: -0.98\n"
          ]
        }
      ]
    },
    {
      "cell_type": "markdown",
      "source": [
        "## Simulation\n",
        "We are going to play two kinds of game.\n",
        "\n",
        "Game 1: Flip the coin 100 times. I win 1 dollar for each head and loss 1 dollar for each tail.\n",
        "\n",
        "Game 2: Flip the coin 1 time. I win 100 dollars on head and loss 100 dollars on tail.\n",
        "\n",
        "To simulate the games, let's ask python to randomly pick -1 or +1 for 100 times for game 1 and to randomly pick -100 or +100 once for game 2."
      ],
      "metadata": {
        "id": "oyzWD97DWAez"
      }
    },
    {
      "cell_type": "code",
      "source": [
        "import pandas as pd\n",
        "import random\n",
        "\n",
        "# game1: randomly pick -1 or +1 for 100 times, and return the sum\n",
        "def game1():\n",
        "  net_win = 0\n",
        "  for i in range(100):\n",
        "    net_win += random.choice([-1, 1])\n",
        "  return net_win\n",
        "\n",
        "# game2: randomly pick -100 or +100 once, and return the result\n",
        "def game2():\n",
        "  return random.choice([-100, 100])"
      ],
      "metadata": {
        "id": "lAGqV1lfJF1X"
      },
      "execution_count": null,
      "outputs": []
    },
    {
      "cell_type": "markdown",
      "source": [
        "### Play each game once"
      ],
      "metadata": {
        "id": "GHjLlY9AX8sV"
      }
    },
    {
      "cell_type": "code",
      "source": [
        "print(f\"The result of game 1: {game1()}\")"
      ],
      "metadata": {
        "colab": {
          "base_uri": "https://localhost:8080/"
        },
        "id": "bxGSSbtyYD5p",
        "outputId": "4a436cf7-ad04-4727-c1a9-67309a028f0d"
      },
      "execution_count": null,
      "outputs": [
        {
          "output_type": "stream",
          "name": "stdout",
          "text": [
            "The result of game 1: 22\n"
          ]
        }
      ]
    },
    {
      "cell_type": "code",
      "source": [
        "print(f\"The result of game 2: {game2()}\")"
      ],
      "metadata": {
        "colab": {
          "base_uri": "https://localhost:8080/"
        },
        "id": "eJwO5HD6Yc3m",
        "outputId": "d0ff38d4-1c0d-432d-9c53-e438322d3a8e"
      },
      "execution_count": null,
      "outputs": [
        {
          "output_type": "stream",
          "name": "stdout",
          "text": [
            "The result of game 2: 100\n"
          ]
        }
      ]
    },
    {
      "cell_type": "markdown",
      "source": [
        "### Play each game 1,000,000 times"
      ],
      "metadata": {
        "id": "LuiVLYcrYqHz"
      }
    },
    {
      "cell_type": "code",
      "source": [
        "# recording the results of playing game 1 for n times\n",
        "def game1_n_times(n):\n",
        "  l = []\n",
        "  for i in range(n):\n",
        "    l.append(game1())\n",
        "  return l\n",
        "\n",
        "# recording the results of playing game 2 for n times\n",
        "def game2_n_times(n):\n",
        "  l = []\n",
        "  for i in range(n):\n",
        "    l.append(game2())\n",
        "  return l\n",
        "\n",
        "# play both games for 1,000,000 times\n",
        "game_1_results = game1_n_times(n = 1000000)\n",
        "game_2_results = game2_n_times(n = 1000000)\n",
        "\n",
        "# put the results into a dataframe\n",
        "results = pd.DataFrame({\"game 1\" : game_1_results, \"game 2\" : game_2_results})"
      ],
      "metadata": {
        "id": "slI68bQwTmAi"
      },
      "execution_count": null,
      "outputs": []
    },
    {
      "cell_type": "code",
      "source": [
        "results"
      ],
      "metadata": {
        "colab": {
          "base_uri": "https://localhost:8080/",
          "height": 424
        },
        "id": "TOP9nws_Zccj",
        "outputId": "b7f9cab1-60d6-4f0c-9d47-7956115dce28"
      },
      "execution_count": null,
      "outputs": [
        {
          "output_type": "execute_result",
          "data": {
            "text/plain": [
              "        game 1  game 2\n",
              "0           -6     100\n",
              "1           14    -100\n",
              "2           -4     100\n",
              "3          -18     100\n",
              "4            0     100\n",
              "...        ...     ...\n",
              "999995      10     100\n",
              "999996      -6     100\n",
              "999997       0     100\n",
              "999998       2    -100\n",
              "999999     -18     100\n",
              "\n",
              "[1000000 rows x 2 columns]"
            ],
            "text/html": [
              "\n",
              "  <div id=\"df-4371b374-de63-497d-9853-50d27489ca74\" class=\"colab-df-container\">\n",
              "    <div>\n",
              "<style scoped>\n",
              "    .dataframe tbody tr th:only-of-type {\n",
              "        vertical-align: middle;\n",
              "    }\n",
              "\n",
              "    .dataframe tbody tr th {\n",
              "        vertical-align: top;\n",
              "    }\n",
              "\n",
              "    .dataframe thead th {\n",
              "        text-align: right;\n",
              "    }\n",
              "</style>\n",
              "<table border=\"1\" class=\"dataframe\">\n",
              "  <thead>\n",
              "    <tr style=\"text-align: right;\">\n",
              "      <th></th>\n",
              "      <th>game 1</th>\n",
              "      <th>game 2</th>\n",
              "    </tr>\n",
              "  </thead>\n",
              "  <tbody>\n",
              "    <tr>\n",
              "      <th>0</th>\n",
              "      <td>-6</td>\n",
              "      <td>100</td>\n",
              "    </tr>\n",
              "    <tr>\n",
              "      <th>1</th>\n",
              "      <td>14</td>\n",
              "      <td>-100</td>\n",
              "    </tr>\n",
              "    <tr>\n",
              "      <th>2</th>\n",
              "      <td>-4</td>\n",
              "      <td>100</td>\n",
              "    </tr>\n",
              "    <tr>\n",
              "      <th>3</th>\n",
              "      <td>-18</td>\n",
              "      <td>100</td>\n",
              "    </tr>\n",
              "    <tr>\n",
              "      <th>4</th>\n",
              "      <td>0</td>\n",
              "      <td>100</td>\n",
              "    </tr>\n",
              "    <tr>\n",
              "      <th>...</th>\n",
              "      <td>...</td>\n",
              "      <td>...</td>\n",
              "    </tr>\n",
              "    <tr>\n",
              "      <th>999995</th>\n",
              "      <td>10</td>\n",
              "      <td>100</td>\n",
              "    </tr>\n",
              "    <tr>\n",
              "      <th>999996</th>\n",
              "      <td>-6</td>\n",
              "      <td>100</td>\n",
              "    </tr>\n",
              "    <tr>\n",
              "      <th>999997</th>\n",
              "      <td>0</td>\n",
              "      <td>100</td>\n",
              "    </tr>\n",
              "    <tr>\n",
              "      <th>999998</th>\n",
              "      <td>2</td>\n",
              "      <td>-100</td>\n",
              "    </tr>\n",
              "    <tr>\n",
              "      <th>999999</th>\n",
              "      <td>-18</td>\n",
              "      <td>100</td>\n",
              "    </tr>\n",
              "  </tbody>\n",
              "</table>\n",
              "<p>1000000 rows × 2 columns</p>\n",
              "</div>\n",
              "    <div class=\"colab-df-buttons\">\n",
              "\n",
              "  <div class=\"colab-df-container\">\n",
              "    <button class=\"colab-df-convert\" onclick=\"convertToInteractive('df-4371b374-de63-497d-9853-50d27489ca74')\"\n",
              "            title=\"Convert this dataframe to an interactive table.\"\n",
              "            style=\"display:none;\">\n",
              "\n",
              "  <svg xmlns=\"http://www.w3.org/2000/svg\" height=\"24px\" viewBox=\"0 -960 960 960\">\n",
              "    <path d=\"M120-120v-720h720v720H120Zm60-500h600v-160H180v160Zm220 220h160v-160H400v160Zm0 220h160v-160H400v160ZM180-400h160v-160H180v160Zm440 0h160v-160H620v160ZM180-180h160v-160H180v160Zm440 0h160v-160H620v160Z\"/>\n",
              "  </svg>\n",
              "    </button>\n",
              "\n",
              "  <style>\n",
              "    .colab-df-container {\n",
              "      display:flex;\n",
              "      gap: 12px;\n",
              "    }\n",
              "\n",
              "    .colab-df-convert {\n",
              "      background-color: #E8F0FE;\n",
              "      border: none;\n",
              "      border-radius: 50%;\n",
              "      cursor: pointer;\n",
              "      display: none;\n",
              "      fill: #1967D2;\n",
              "      height: 32px;\n",
              "      padding: 0 0 0 0;\n",
              "      width: 32px;\n",
              "    }\n",
              "\n",
              "    .colab-df-convert:hover {\n",
              "      background-color: #E2EBFA;\n",
              "      box-shadow: 0px 1px 2px rgba(60, 64, 67, 0.3), 0px 1px 3px 1px rgba(60, 64, 67, 0.15);\n",
              "      fill: #174EA6;\n",
              "    }\n",
              "\n",
              "    .colab-df-buttons div {\n",
              "      margin-bottom: 4px;\n",
              "    }\n",
              "\n",
              "    [theme=dark] .colab-df-convert {\n",
              "      background-color: #3B4455;\n",
              "      fill: #D2E3FC;\n",
              "    }\n",
              "\n",
              "    [theme=dark] .colab-df-convert:hover {\n",
              "      background-color: #434B5C;\n",
              "      box-shadow: 0px 1px 3px 1px rgba(0, 0, 0, 0.15);\n",
              "      filter: drop-shadow(0px 1px 2px rgba(0, 0, 0, 0.3));\n",
              "      fill: #FFFFFF;\n",
              "    }\n",
              "  </style>\n",
              "\n",
              "    <script>\n",
              "      const buttonEl =\n",
              "        document.querySelector('#df-4371b374-de63-497d-9853-50d27489ca74 button.colab-df-convert');\n",
              "      buttonEl.style.display =\n",
              "        google.colab.kernel.accessAllowed ? 'block' : 'none';\n",
              "\n",
              "      async function convertToInteractive(key) {\n",
              "        const element = document.querySelector('#df-4371b374-de63-497d-9853-50d27489ca74');\n",
              "        const dataTable =\n",
              "          await google.colab.kernel.invokeFunction('convertToInteractive',\n",
              "                                                    [key], {});\n",
              "        if (!dataTable) return;\n",
              "\n",
              "        const docLinkHtml = 'Like what you see? Visit the ' +\n",
              "          '<a target=\"_blank\" href=https://colab.research.google.com/notebooks/data_table.ipynb>data table notebook</a>'\n",
              "          + ' to learn more about interactive tables.';\n",
              "        element.innerHTML = '';\n",
              "        dataTable['output_type'] = 'display_data';\n",
              "        await google.colab.output.renderOutput(dataTable, element);\n",
              "        const docLink = document.createElement('div');\n",
              "        docLink.innerHTML = docLinkHtml;\n",
              "        element.appendChild(docLink);\n",
              "      }\n",
              "    </script>\n",
              "  </div>\n",
              "\n",
              "\n",
              "<div id=\"df-75ea40a1-1a13-46c7-b83b-166c3e506dcb\">\n",
              "  <button class=\"colab-df-quickchart\" onclick=\"quickchart('df-75ea40a1-1a13-46c7-b83b-166c3e506dcb')\"\n",
              "            title=\"Suggest charts.\"\n",
              "            style=\"display:none;\">\n",
              "\n",
              "<svg xmlns=\"http://www.w3.org/2000/svg\" height=\"24px\"viewBox=\"0 0 24 24\"\n",
              "     width=\"24px\">\n",
              "    <g>\n",
              "        <path d=\"M19 3H5c-1.1 0-2 .9-2 2v14c0 1.1.9 2 2 2h14c1.1 0 2-.9 2-2V5c0-1.1-.9-2-2-2zM9 17H7v-7h2v7zm4 0h-2V7h2v10zm4 0h-2v-4h2v4z\"/>\n",
              "    </g>\n",
              "</svg>\n",
              "  </button>\n",
              "\n",
              "<style>\n",
              "  .colab-df-quickchart {\n",
              "      --bg-color: #E8F0FE;\n",
              "      --fill-color: #1967D2;\n",
              "      --hover-bg-color: #E2EBFA;\n",
              "      --hover-fill-color: #174EA6;\n",
              "      --disabled-fill-color: #AAA;\n",
              "      --disabled-bg-color: #DDD;\n",
              "  }\n",
              "\n",
              "  [theme=dark] .colab-df-quickchart {\n",
              "      --bg-color: #3B4455;\n",
              "      --fill-color: #D2E3FC;\n",
              "      --hover-bg-color: #434B5C;\n",
              "      --hover-fill-color: #FFFFFF;\n",
              "      --disabled-bg-color: #3B4455;\n",
              "      --disabled-fill-color: #666;\n",
              "  }\n",
              "\n",
              "  .colab-df-quickchart {\n",
              "    background-color: var(--bg-color);\n",
              "    border: none;\n",
              "    border-radius: 50%;\n",
              "    cursor: pointer;\n",
              "    display: none;\n",
              "    fill: var(--fill-color);\n",
              "    height: 32px;\n",
              "    padding: 0;\n",
              "    width: 32px;\n",
              "  }\n",
              "\n",
              "  .colab-df-quickchart:hover {\n",
              "    background-color: var(--hover-bg-color);\n",
              "    box-shadow: 0 1px 2px rgba(60, 64, 67, 0.3), 0 1px 3px 1px rgba(60, 64, 67, 0.15);\n",
              "    fill: var(--button-hover-fill-color);\n",
              "  }\n",
              "\n",
              "  .colab-df-quickchart-complete:disabled,\n",
              "  .colab-df-quickchart-complete:disabled:hover {\n",
              "    background-color: var(--disabled-bg-color);\n",
              "    fill: var(--disabled-fill-color);\n",
              "    box-shadow: none;\n",
              "  }\n",
              "\n",
              "  .colab-df-spinner {\n",
              "    border: 2px solid var(--fill-color);\n",
              "    border-color: transparent;\n",
              "    border-bottom-color: var(--fill-color);\n",
              "    animation:\n",
              "      spin 1s steps(1) infinite;\n",
              "  }\n",
              "\n",
              "  @keyframes spin {\n",
              "    0% {\n",
              "      border-color: transparent;\n",
              "      border-bottom-color: var(--fill-color);\n",
              "      border-left-color: var(--fill-color);\n",
              "    }\n",
              "    20% {\n",
              "      border-color: transparent;\n",
              "      border-left-color: var(--fill-color);\n",
              "      border-top-color: var(--fill-color);\n",
              "    }\n",
              "    30% {\n",
              "      border-color: transparent;\n",
              "      border-left-color: var(--fill-color);\n",
              "      border-top-color: var(--fill-color);\n",
              "      border-right-color: var(--fill-color);\n",
              "    }\n",
              "    40% {\n",
              "      border-color: transparent;\n",
              "      border-right-color: var(--fill-color);\n",
              "      border-top-color: var(--fill-color);\n",
              "    }\n",
              "    60% {\n",
              "      border-color: transparent;\n",
              "      border-right-color: var(--fill-color);\n",
              "    }\n",
              "    80% {\n",
              "      border-color: transparent;\n",
              "      border-right-color: var(--fill-color);\n",
              "      border-bottom-color: var(--fill-color);\n",
              "    }\n",
              "    90% {\n",
              "      border-color: transparent;\n",
              "      border-bottom-color: var(--fill-color);\n",
              "    }\n",
              "  }\n",
              "</style>\n",
              "\n",
              "  <script>\n",
              "    async function quickchart(key) {\n",
              "      const quickchartButtonEl =\n",
              "        document.querySelector('#' + key + ' button');\n",
              "      quickchartButtonEl.disabled = true;  // To prevent multiple clicks.\n",
              "      quickchartButtonEl.classList.add('colab-df-spinner');\n",
              "      try {\n",
              "        const charts = await google.colab.kernel.invokeFunction(\n",
              "            'suggestCharts', [key], {});\n",
              "      } catch (error) {\n",
              "        console.error('Error during call to suggestCharts:', error);\n",
              "      }\n",
              "      quickchartButtonEl.classList.remove('colab-df-spinner');\n",
              "      quickchartButtonEl.classList.add('colab-df-quickchart-complete');\n",
              "    }\n",
              "    (() => {\n",
              "      let quickchartButtonEl =\n",
              "        document.querySelector('#df-75ea40a1-1a13-46c7-b83b-166c3e506dcb button');\n",
              "      quickchartButtonEl.style.display =\n",
              "        google.colab.kernel.accessAllowed ? 'block' : 'none';\n",
              "    })();\n",
              "  </script>\n",
              "</div>\n",
              "    </div>\n",
              "  </div>\n"
            ]
          },
          "metadata": {},
          "execution_count": 28
        }
      ]
    },
    {
      "cell_type": "markdown",
      "source": [
        "### Means and Standard Deviations\n",
        "\n",
        "The means and (sample) standard deviations can be easily calculated by built-in functions in pandas.\n",
        "\n",
        "Note that for a binomial random variable X ~ bi(100, 0.5), the mean is 50 and the variance is 25.\\\n",
        "For a Bernoulli random variable Y ~ bi(1, 0.5), the mean is 0.5 and the variance is 0.25.\\\n",
        "The outcome of game 1 is a random variable R1 = 2 X - 100.\\\n",
        "The outcome of game 2 is a random variable R2 = 200 Y - 100.\\\n",
        "From here we get the theoretical means and variances:\n",
        "\n",
        "1. Mean[R1] = 0 and Std[R1] = 10\n",
        "2. Mean[R1] = 0 and Std[R2] = 100\n",
        "\n",
        "which are very close to the result of the simulation."
      ],
      "metadata": {
        "id": "LpEQWb-BaLrF"
      }
    },
    {
      "cell_type": "code",
      "source": [
        "results.describe().loc[[\"mean\", \"std\"]]"
      ],
      "metadata": {
        "colab": {
          "base_uri": "https://localhost:8080/",
          "height": 112
        },
        "id": "-l8I4gmyZfxl",
        "outputId": "d7cb3a0f-4de8-4c61-db5d-941b87a1f48e"
      },
      "execution_count": null,
      "outputs": [
        {
          "output_type": "execute_result",
          "data": {
            "text/plain": [
              "        game 1     game 2\n",
              "mean  0.001350  -0.120400\n",
              "std   9.995066  99.999978"
            ],
            "text/html": [
              "\n",
              "  <div id=\"df-422fb389-7b4c-42c3-8446-2d5997c7615f\" class=\"colab-df-container\">\n",
              "    <div>\n",
              "<style scoped>\n",
              "    .dataframe tbody tr th:only-of-type {\n",
              "        vertical-align: middle;\n",
              "    }\n",
              "\n",
              "    .dataframe tbody tr th {\n",
              "        vertical-align: top;\n",
              "    }\n",
              "\n",
              "    .dataframe thead th {\n",
              "        text-align: right;\n",
              "    }\n",
              "</style>\n",
              "<table border=\"1\" class=\"dataframe\">\n",
              "  <thead>\n",
              "    <tr style=\"text-align: right;\">\n",
              "      <th></th>\n",
              "      <th>game 1</th>\n",
              "      <th>game 2</th>\n",
              "    </tr>\n",
              "  </thead>\n",
              "  <tbody>\n",
              "    <tr>\n",
              "      <th>mean</th>\n",
              "      <td>0.001350</td>\n",
              "      <td>-0.120400</td>\n",
              "    </tr>\n",
              "    <tr>\n",
              "      <th>std</th>\n",
              "      <td>9.995066</td>\n",
              "      <td>99.999978</td>\n",
              "    </tr>\n",
              "  </tbody>\n",
              "</table>\n",
              "</div>\n",
              "    <div class=\"colab-df-buttons\">\n",
              "\n",
              "  <div class=\"colab-df-container\">\n",
              "    <button class=\"colab-df-convert\" onclick=\"convertToInteractive('df-422fb389-7b4c-42c3-8446-2d5997c7615f')\"\n",
              "            title=\"Convert this dataframe to an interactive table.\"\n",
              "            style=\"display:none;\">\n",
              "\n",
              "  <svg xmlns=\"http://www.w3.org/2000/svg\" height=\"24px\" viewBox=\"0 -960 960 960\">\n",
              "    <path d=\"M120-120v-720h720v720H120Zm60-500h600v-160H180v160Zm220 220h160v-160H400v160Zm0 220h160v-160H400v160ZM180-400h160v-160H180v160Zm440 0h160v-160H620v160ZM180-180h160v-160H180v160Zm440 0h160v-160H620v160Z\"/>\n",
              "  </svg>\n",
              "    </button>\n",
              "\n",
              "  <style>\n",
              "    .colab-df-container {\n",
              "      display:flex;\n",
              "      gap: 12px;\n",
              "    }\n",
              "\n",
              "    .colab-df-convert {\n",
              "      background-color: #E8F0FE;\n",
              "      border: none;\n",
              "      border-radius: 50%;\n",
              "      cursor: pointer;\n",
              "      display: none;\n",
              "      fill: #1967D2;\n",
              "      height: 32px;\n",
              "      padding: 0 0 0 0;\n",
              "      width: 32px;\n",
              "    }\n",
              "\n",
              "    .colab-df-convert:hover {\n",
              "      background-color: #E2EBFA;\n",
              "      box-shadow: 0px 1px 2px rgba(60, 64, 67, 0.3), 0px 1px 3px 1px rgba(60, 64, 67, 0.15);\n",
              "      fill: #174EA6;\n",
              "    }\n",
              "\n",
              "    .colab-df-buttons div {\n",
              "      margin-bottom: 4px;\n",
              "    }\n",
              "\n",
              "    [theme=dark] .colab-df-convert {\n",
              "      background-color: #3B4455;\n",
              "      fill: #D2E3FC;\n",
              "    }\n",
              "\n",
              "    [theme=dark] .colab-df-convert:hover {\n",
              "      background-color: #434B5C;\n",
              "      box-shadow: 0px 1px 3px 1px rgba(0, 0, 0, 0.15);\n",
              "      filter: drop-shadow(0px 1px 2px rgba(0, 0, 0, 0.3));\n",
              "      fill: #FFFFFF;\n",
              "    }\n",
              "  </style>\n",
              "\n",
              "    <script>\n",
              "      const buttonEl =\n",
              "        document.querySelector('#df-422fb389-7b4c-42c3-8446-2d5997c7615f button.colab-df-convert');\n",
              "      buttonEl.style.display =\n",
              "        google.colab.kernel.accessAllowed ? 'block' : 'none';\n",
              "\n",
              "      async function convertToInteractive(key) {\n",
              "        const element = document.querySelector('#df-422fb389-7b4c-42c3-8446-2d5997c7615f');\n",
              "        const dataTable =\n",
              "          await google.colab.kernel.invokeFunction('convertToInteractive',\n",
              "                                                    [key], {});\n",
              "        if (!dataTable) return;\n",
              "\n",
              "        const docLinkHtml = 'Like what you see? Visit the ' +\n",
              "          '<a target=\"_blank\" href=https://colab.research.google.com/notebooks/data_table.ipynb>data table notebook</a>'\n",
              "          + ' to learn more about interactive tables.';\n",
              "        element.innerHTML = '';\n",
              "        dataTable['output_type'] = 'display_data';\n",
              "        await google.colab.output.renderOutput(dataTable, element);\n",
              "        const docLink = document.createElement('div');\n",
              "        docLink.innerHTML = docLinkHtml;\n",
              "        element.appendChild(docLink);\n",
              "      }\n",
              "    </script>\n",
              "  </div>\n",
              "\n",
              "\n",
              "<div id=\"df-3bead595-ffaf-41c7-a4e7-c6c5319d5314\">\n",
              "  <button class=\"colab-df-quickchart\" onclick=\"quickchart('df-3bead595-ffaf-41c7-a4e7-c6c5319d5314')\"\n",
              "            title=\"Suggest charts.\"\n",
              "            style=\"display:none;\">\n",
              "\n",
              "<svg xmlns=\"http://www.w3.org/2000/svg\" height=\"24px\"viewBox=\"0 0 24 24\"\n",
              "     width=\"24px\">\n",
              "    <g>\n",
              "        <path d=\"M19 3H5c-1.1 0-2 .9-2 2v14c0 1.1.9 2 2 2h14c1.1 0 2-.9 2-2V5c0-1.1-.9-2-2-2zM9 17H7v-7h2v7zm4 0h-2V7h2v10zm4 0h-2v-4h2v4z\"/>\n",
              "    </g>\n",
              "</svg>\n",
              "  </button>\n",
              "\n",
              "<style>\n",
              "  .colab-df-quickchart {\n",
              "      --bg-color: #E8F0FE;\n",
              "      --fill-color: #1967D2;\n",
              "      --hover-bg-color: #E2EBFA;\n",
              "      --hover-fill-color: #174EA6;\n",
              "      --disabled-fill-color: #AAA;\n",
              "      --disabled-bg-color: #DDD;\n",
              "  }\n",
              "\n",
              "  [theme=dark] .colab-df-quickchart {\n",
              "      --bg-color: #3B4455;\n",
              "      --fill-color: #D2E3FC;\n",
              "      --hover-bg-color: #434B5C;\n",
              "      --hover-fill-color: #FFFFFF;\n",
              "      --disabled-bg-color: #3B4455;\n",
              "      --disabled-fill-color: #666;\n",
              "  }\n",
              "\n",
              "  .colab-df-quickchart {\n",
              "    background-color: var(--bg-color);\n",
              "    border: none;\n",
              "    border-radius: 50%;\n",
              "    cursor: pointer;\n",
              "    display: none;\n",
              "    fill: var(--fill-color);\n",
              "    height: 32px;\n",
              "    padding: 0;\n",
              "    width: 32px;\n",
              "  }\n",
              "\n",
              "  .colab-df-quickchart:hover {\n",
              "    background-color: var(--hover-bg-color);\n",
              "    box-shadow: 0 1px 2px rgba(60, 64, 67, 0.3), 0 1px 3px 1px rgba(60, 64, 67, 0.15);\n",
              "    fill: var(--button-hover-fill-color);\n",
              "  }\n",
              "\n",
              "  .colab-df-quickchart-complete:disabled,\n",
              "  .colab-df-quickchart-complete:disabled:hover {\n",
              "    background-color: var(--disabled-bg-color);\n",
              "    fill: var(--disabled-fill-color);\n",
              "    box-shadow: none;\n",
              "  }\n",
              "\n",
              "  .colab-df-spinner {\n",
              "    border: 2px solid var(--fill-color);\n",
              "    border-color: transparent;\n",
              "    border-bottom-color: var(--fill-color);\n",
              "    animation:\n",
              "      spin 1s steps(1) infinite;\n",
              "  }\n",
              "\n",
              "  @keyframes spin {\n",
              "    0% {\n",
              "      border-color: transparent;\n",
              "      border-bottom-color: var(--fill-color);\n",
              "      border-left-color: var(--fill-color);\n",
              "    }\n",
              "    20% {\n",
              "      border-color: transparent;\n",
              "      border-left-color: var(--fill-color);\n",
              "      border-top-color: var(--fill-color);\n",
              "    }\n",
              "    30% {\n",
              "      border-color: transparent;\n",
              "      border-left-color: var(--fill-color);\n",
              "      border-top-color: var(--fill-color);\n",
              "      border-right-color: var(--fill-color);\n",
              "    }\n",
              "    40% {\n",
              "      border-color: transparent;\n",
              "      border-right-color: var(--fill-color);\n",
              "      border-top-color: var(--fill-color);\n",
              "    }\n",
              "    60% {\n",
              "      border-color: transparent;\n",
              "      border-right-color: var(--fill-color);\n",
              "    }\n",
              "    80% {\n",
              "      border-color: transparent;\n",
              "      border-right-color: var(--fill-color);\n",
              "      border-bottom-color: var(--fill-color);\n",
              "    }\n",
              "    90% {\n",
              "      border-color: transparent;\n",
              "      border-bottom-color: var(--fill-color);\n",
              "    }\n",
              "  }\n",
              "</style>\n",
              "\n",
              "  <script>\n",
              "    async function quickchart(key) {\n",
              "      const quickchartButtonEl =\n",
              "        document.querySelector('#' + key + ' button');\n",
              "      quickchartButtonEl.disabled = true;  // To prevent multiple clicks.\n",
              "      quickchartButtonEl.classList.add('colab-df-spinner');\n",
              "      try {\n",
              "        const charts = await google.colab.kernel.invokeFunction(\n",
              "            'suggestCharts', [key], {});\n",
              "      } catch (error) {\n",
              "        console.error('Error during call to suggestCharts:', error);\n",
              "      }\n",
              "      quickchartButtonEl.classList.remove('colab-df-spinner');\n",
              "      quickchartButtonEl.classList.add('colab-df-quickchart-complete');\n",
              "    }\n",
              "    (() => {\n",
              "      let quickchartButtonEl =\n",
              "        document.querySelector('#df-3bead595-ffaf-41c7-a4e7-c6c5319d5314 button');\n",
              "      quickchartButtonEl.style.display =\n",
              "        google.colab.kernel.accessAllowed ? 'block' : 'none';\n",
              "    })();\n",
              "  </script>\n",
              "</div>\n",
              "    </div>\n",
              "  </div>\n"
            ]
          },
          "metadata": {},
          "execution_count": 29
        }
      ]
    },
    {
      "cell_type": "markdown",
      "source": [
        "### Distribution\n",
        "\n",
        "We can plot the distributions of the results.\\\n",
        "Because there are 101 possible outcomes of each game, let's bin them into 101 cases.\\\n",
        "The distribution of game 1 looks normal.\\\n",
        "The distribution of game 2 is two peaks with almost the same height."
      ],
      "metadata": {
        "id": "o-oz7OAdh-Bg"
      }
    },
    {
      "cell_type": "code",
      "source": [
        "results.plot.hist(column = \"game 1\", bins = 101, range = [-100, 100]).set_xlabel(\"results\")"
      ],
      "metadata": {
        "colab": {
          "base_uri": "https://localhost:8080/",
          "height": 466
        },
        "id": "3b3WptFxkYqE",
        "outputId": "9e262b9f-7cb1-45b2-f9bd-d4d5fd7e3f09"
      },
      "execution_count": null,
      "outputs": [
        {
          "output_type": "execute_result",
          "data": {
            "text/plain": [
              "Text(0.5, 0, 'results')"
            ]
          },
          "metadata": {},
          "execution_count": 30
        },
        {
          "output_type": "display_data",
          "data": {
            "text/plain": [
              "<Figure size 640x480 with 1 Axes>"
            ],
            "image/png": "[encoded data removed]"
          },
          "metadata": {}
        }
      ]
    },
    {
      "cell_type": "code",
      "source": [
        "results.plot.hist(column = \"game 2\", bins = 101, range = [-100, 100]).set_xlabel(\"results\")"
      ],
      "metadata": {
        "colab": {
          "base_uri": "https://localhost:8080/",
          "height": 466
        },
        "id": "rpXd5CD1kuo_",
        "outputId": "066f2cf4-b1f3-4936-a14e-35d830055d7a"
      },
      "execution_count": null,
      "outputs": [
        {
          "output_type": "execute_result",
          "data": {
            "text/plain": [
              "Text(0.5, 0, 'results')"
            ]
          },
          "metadata": {},
          "execution_count": 31
        },
        {
          "output_type": "display_data",
          "data": {
            "text/plain": [
              "<Figure size 640x480 with 1 Axes>"
            ],
            "image/png": "[encoded data removed]"
          },
          "metadata": {}
        }
      ]
    },
    {
      "cell_type": "markdown",
      "source": [
        "## A better algorithm for maximum drawdown\n",
        "When we calculated the maximum drawdown, we ran through two nested loops.\\\n",
        "This algorithm is O(n^2) and can take very long when the dataset gets larger.\n",
        "\n",
        "The following is a quicker algorithm with time complexity O(n):\n",
        "\n",
        "We scan through the prices once.\\\n",
        "Through the process, we stored the biggest P(s) because it will make the denominator larger.\\\n",
        "In addition, the lowest P(t) / P(s) are stored.\\\n",
        "In this way, we only get the smallest P(t) / P(s) with s < t.\\\n",
        "Finally, the maximum drawdown is again:\\\n",
        "r_t = -1 + min_{s<t} [ P(t) / P(s) ]"
      ],
      "metadata": {
        "id": "5jpbUdDdeeR_"
      }
    },
    {
      "cell_type": "code",
      "source": [
        "# another algorithm for maximum drawdown\n",
        "def max_drawdown_2(x):\n",
        "  x_list = x['Close'].tolist()\n",
        "  ps, pts = x_list[0], 1\n",
        "  for elem in x_list:\n",
        "    if ps < elem:\n",
        "      ps = elem\n",
        "    else:\n",
        "      pts = min(pts, elem / ps)\n",
        "  return pts - 1"
      ],
      "metadata": {
        "id": "TiAhKl7IfV73"
      },
      "execution_count": null,
      "outputs": []
    },
    {
      "cell_type": "markdown",
      "source": [
        "The maximum drawdown calculated by this algorithm agrees with the previous result."
      ],
      "metadata": {
        "id": "h0LxOQdhkzKW"
      }
    },
    {
      "cell_type": "code",
      "source": [
        "print(f'The maximum drawdown for AAPL: {max_drawdown_2(aapl_day):.2f}')"
      ],
      "metadata": {
        "colab": {
          "base_uri": "https://localhost:8080/"
        },
        "outputId": "cd778968-ba37-4205-ff1c-38e93b4a425f",
        "id": "PwRZmhD0g_v5"
      },
      "execution_count": null,
      "outputs": [
        {
          "output_type": "stream",
          "name": "stdout",
          "text": [
            "The maximum drawdown for AAPL: -0.61\n"
          ]
        }
      ]
    },
    {
      "cell_type": "code",
      "source": [
        "print(f'The maximum drawdown for TXN : {max_drawdown_2(txn_day):.2f}')"
      ],
      "metadata": {
        "colab": {
          "base_uri": "https://localhost:8080/"
        },
        "outputId": "db3af4d9-fa1a-46b2-c759-a2ad09968fb6",
        "id": "iJFmJY4Lg_v-"
      },
      "execution_count": null,
      "outputs": [
        {
          "output_type": "stream",
          "name": "stdout",
          "text": [
            "The maximum drawdown for TXN : -0.65\n"
          ]
        }
      ]
    },
    {
      "cell_type": "code",
      "source": [
        "print(f'The maximum drawdown for GRMN: {max_drawdown_2(grmn_day):.2f}')"
      ],
      "metadata": {
        "colab": {
          "base_uri": "https://localhost:8080/"
        },
        "outputId": "8bdf5ec3-2878-45e3-de97-f6f6708b309e",
        "id": "mGKDjkt3g_wC"
      },
      "execution_count": null,
      "outputs": [
        {
          "output_type": "stream",
          "name": "stdout",
          "text": [
            "The maximum drawdown for GRMN: -0.88\n"
          ]
        }
      ]
    },
    {
      "cell_type": "code",
      "source": [
        "print(f'The maximum drawdown for HLIT: {max_drawdown_2(hlit_day):.2f}')"
      ],
      "metadata": {
        "colab": {
          "base_uri": "https://localhost:8080/"
        },
        "outputId": "15d47164-6cb0-48b0-fdd1-a86cb8ddaa8b",
        "id": "3wRXpP-6g_wE"
      },
      "execution_count": null,
      "outputs": [
        {
          "output_type": "stream",
          "name": "stdout",
          "text": [
            "The maximum drawdown for HLIT: -0.81\n"
          ]
        }
      ]
    },
    {
      "cell_type": "code",
      "source": [
        "print(f'The maximum drawdown for QMCO: {max_drawdown_2(qmco_day):.2f}')"
      ],
      "metadata": {
        "colab": {
          "base_uri": "https://localhost:8080/"
        },
        "outputId": "3b1c822c-6efe-4b7b-cb4c-58b6522c9bc6",
        "id": "lfAHQJAzg_wG"
      },
      "execution_count": null,
      "outputs": [
        {
          "output_type": "stream",
          "name": "stdout",
          "text": [
            "The maximum drawdown for QMCO: -0.98\n"
          ]
        }
      ]
    }
  ]
}